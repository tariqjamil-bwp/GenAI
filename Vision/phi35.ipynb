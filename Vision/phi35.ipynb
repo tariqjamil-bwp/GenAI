{
 "cells": [
  {
   "cell_type": "markdown",
   "metadata": {},
   "source": [
    "https://ai.gopubby.com/ai-powered-ocr-with-phi-3-vision-128k-the-future-of-document-processing-7be80c46bd16"
   ]
  },
  {
   "cell_type": "code",
   "execution_count": 2,
   "metadata": {},
   "outputs": [
    {
     "ename": "ModuleNotFoundError",
     "evalue": "No module named 'transformers'",
     "output_type": "error",
     "traceback": [
      "\u001b[0;31m---------------------------------------------------------------------------\u001b[0m",
      "\u001b[0;31mModuleNotFoundError\u001b[0m                       Traceback (most recent call last)",
      "Cell \u001b[0;32mIn[2], line 3\u001b[0m\n\u001b[1;32m      1\u001b[0m \u001b[38;5;28;01mfrom\u001b[39;00m \u001b[38;5;21;01mPIL\u001b[39;00m \u001b[38;5;28;01mimport\u001b[39;00m Image\n\u001b[1;32m      2\u001b[0m \u001b[38;5;28;01mimport\u001b[39;00m \u001b[38;5;21;01mrequests\u001b[39;00m\n\u001b[0;32m----> 3\u001b[0m \u001b[38;5;28;01mfrom\u001b[39;00m \u001b[38;5;21;01mtransformers\u001b[39;00m \u001b[38;5;28;01mimport\u001b[39;00m AutoModelForCausalLM, AutoProcessor\n\u001b[1;32m      5\u001b[0m \u001b[38;5;28;01mclass\u001b[39;00m \u001b[38;5;21;01mPhi3VisionModel\u001b[39;00m:\n\u001b[1;32m      6\u001b[0m     \u001b[38;5;28;01mdef\u001b[39;00m \u001b[38;5;21m__init__\u001b[39m(\u001b[38;5;28mself\u001b[39m, model_id\u001b[38;5;241m=\u001b[39m\u001b[38;5;124m\"\u001b[39m\u001b[38;5;124mmicrosoft/Phi-3-vision-128k-instruct\u001b[39m\u001b[38;5;124m\"\u001b[39m, device\u001b[38;5;241m=\u001b[39m\u001b[38;5;124m\"\u001b[39m\u001b[38;5;124mcuda\u001b[39m\u001b[38;5;124m\"\u001b[39m):\n",
      "\u001b[0;31mModuleNotFoundError\u001b[0m: No module named 'transformers'"
     ]
    }
   ],
   "source": [
    "from PIL import Image\n",
    "import requests\n",
    "from transformers import AutoModelForCausalLM, AutoProcessor\n",
    "\n",
    "class Phi3VisionModel:\n",
    "    def __init__(self, model_id=\"microsoft/Phi-3-vision-128k-instruct\", device=\"cuda\"):\n",
    "        \"\"\"\n",
    "        Initialize the Phi3VisionModel with the specified model ID and device.\n",
    "        \n",
    "        Args:\n",
    "            model_id (str): The identifier of the pre-trained model from Hugging Face's model hub.\n",
    "            device (str): The device to load the model on (\"cuda\" for GPU or \"cpu\").\n",
    "        \"\"\"\n",
    "        self.model_id = model_id\n",
    "        self.device = device\n",
    "        self.model = self.load_model()  # Load the model during initialization\n",
    "        self.processor = self.load_processor()  # Load the processor during initialization\n",
    "    \n",
    "    def load_model(self):\n",
    "        \"\"\"\n",
    "        Load the pre-trained language model with causal language modeling capabilities.\n",
    "        \n",
    "        Returns:\n",
    "            model (AutoModelForCausalLM): The loaded model.\n",
    "        \"\"\"\n",
    "        print(\"Loading model...\")\n",
    "        # Load the model with automatic device mapping and data type adjustment\n",
    "        return AutoModelForCausalLM.from_pretrained(\n",
    "            self.model_id, \n",
    "            device_map=\"auto\",  # Automatically map model to the appropriate device(s)\n",
    "            torch_dtype=\"auto\",  # Use an appropriate torch data type based on the device\n",
    "            trust_remote_code=True,  # Allow execution of custom code for loading the model\n",
    "            _attn_implementation='flash_attention_2'  # Use optimized attention implementation\n",
    "        ).to(self.device)  # Move the model to the specified device\n",
    "    \n",
    "    def load_processor(self):\n",
    "        \"\"\"\n",
    "        Load the processor associated with the model for processing inputs and outputs.\n",
    "        \n",
    "        Returns:\n",
    "            processor (AutoProcessor): The loaded processor for handling text and images.\n",
    "        \"\"\"\n",
    "        print(\"Loading processor...\")\n",
    "        # Load the processor with trust_remote_code=True to handle any custom processing logic\n",
    "        return AutoProcessor.from_pretrained(self.model_id, trust_remote_code=True)\n",
    "    \n",
    "    def predict(self, image_url, prompt):\n",
    "        \"\"\"\n",
    "        Perform a prediction using the model given an image and a prompt.\n",
    "        \n",
    "        Args:\n",
    "            image_url (str): The URL of the image to be processed.\n",
    "            prompt (str): The textual prompt that guides the model's generation.\n",
    "        \n",
    "        Returns:\n",
    "            response (str): The generated response from the model.\n",
    "        \"\"\"\n",
    "        # Load the image from the provided URL\n",
    "        image = Image.open(requests.get(image_url, stream=True).raw)\n",
    "        \n",
    "        # Format the input prompt template for the model\n",
    "        prompt_template = f\"<|user|>\\n<|image_1|>\\n{prompt}<|end|>\\n<|assistant|>\\n\"\n",
    "        \n",
    "        # Process the inputs, converting the prompt and image into tensor format\n",
    "        inputs = self.processor(prompt_template, [image], return_tensors=\"pt\").to(self.device)\n",
    "        \n",
    "        # Set generation arguments for the model's response generation\n",
    "        generation_args = {\n",
    "            \"max_new_tokens\": 500,  # Maximum number of tokens to generate\n",
    "            \"temperature\": 0.7,     # Sampling temperature for diversity in generation\n",
    "            \"do_sample\": False      # Disable sampling for deterministic output\n",
    "        }\n",
    "        print(\"Generating response...\")\n",
    "        # Generate the output IDs using the model, skipping the input tokens\n",
    "        output_ids = self.model.generate(**inputs, **generation_args)\n",
    "        output_ids = output_ids[:, inputs['input_ids'].shape[1]:]  # Ignore the input prompt in the output\n",
    "        \n",
    "        # Decode the generated output tokens to obtain the response text\n",
    "        response = self.processor.batch_decode(output_ids, skip_special_tokens=True)[0]\n",
    "        return response\n"
   ]
  },
  {
   "cell_type": "code",
   "execution_count": null,
   "metadata": {},
   "outputs": [],
   "source": [
    "\n",
    "\n",
    "# Initialize the model\n",
    "phi_model = Phi3VisionModel()\n",
    "\n",
    "# Example prediction\n",
    "image_url = \"https://example.com/sample_image.png\"  # URL of the sample image\n",
    "image_url = \"https://miro.medium.com/v2/resize:fit:1400/format:webp/1*MltpseOI3HhvCkUZMwLdEQ.png\"\n",
    "prompt = \"Extract the data in json format.\"  # Prompt for model guidance\n",
    "response = phi_model.predict(image_url, prompt)  # Get the response from the model\n",
    "\n",
    "print(\"Response:\", response)  # Print the generated response"
   ]
  }
 ],
 "metadata": {
  "kernelspec": {
   "display_name": "GenAI-6L6xWvik",
   "language": "python",
   "name": "python3"
  },
  "language_info": {
   "codemirror_mode": {
    "name": "ipython",
    "version": 3
   },
   "file_extension": ".py",
   "mimetype": "text/x-python",
   "name": "python",
   "nbconvert_exporter": "python",
   "pygments_lexer": "ipython3",
   "version": "3.11.10"
  }
 },
 "nbformat": 4,
 "nbformat_minor": 2
}
